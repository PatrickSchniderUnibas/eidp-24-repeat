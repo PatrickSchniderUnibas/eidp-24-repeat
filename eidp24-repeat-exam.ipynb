{
 "cells": [
  {
   "cell_type": "markdown",
   "id": "882cb365",
   "metadata": {
    "deletable": false,
    "editable": false
   },
   "source": [
    "# Einführung in die Programmierung\n",
    "## Prüfung vom 1. Juli 2025\n",
    "### Zeit: 80 Minuten"
   ]
  },
  {
   "cell_type": "markdown",
   "id": "4711f064",
   "metadata": {
    "deletable": false
   },
   "source": [
    "*Schreiben Sie in dieses Feld Ihren Vornamen, Namen und email Adresse.*"
   ]
  },
  {
   "cell_type": "markdown",
   "id": "0de914d7",
   "metadata": {
    "deletable": false,
    "editable": false
   },
   "source": [
    "## Übersetzungstool\n",
    "\n",
    "Sie dürfen das Übersetzungstool [Google Translate](https://translate.google.com) verwenden."
   ]
  },
  {
   "cell_type": "markdown",
   "id": "c8835b00",
   "metadata": {
    "deletable": false,
    "editable": false
   },
   "source": [
    "## Theorie (10 Punkte)"
   ]
  },
  {
   "cell_type": "markdown",
   "id": "865dfba8",
   "metadata": {
    "deletable": false,
    "editable": false
   },
   "source": [
    "### Aufgabe 1 (2 Punkte)\n",
    "\n",
    "Welche der folgenden Aussagen sind wahr?\n",
    "\n",
    "1. Der Datentyp `float` kann keine ganze Zahl darstellen.\n",
    "2. Der Ausdruck `'5' + 5` ergibt `10`.\n",
    "3. Der Datentyp `int` repräsentiert ganze Zahlen.\n",
    "4. Strings werden in Python in eckige Klammern `[]` geschrieben..\n",
    "\n",
    "Löschen Sie die Nummern der nicht zutreffenden Behauptungen in folgender Zelle."
   ]
  },
  {
   "cell_type": "code",
   "execution_count": null,
   "id": "db6c8933",
   "metadata": {
    "deletable": false,
    "exercise_id": 1
   },
   "outputs": [],
   "source": [
    "[1,2,3,4] "
   ]
  },
  {
   "cell_type": "markdown",
   "id": "87cd4239",
   "metadata": {
    "deletable": false,
    "editable": false
   },
   "source": [
    "### Aufgabe 2 (2 Punkte)\n",
    "\n",
    "Welche der folgenden Ausdrücke ergeben immer ```True```?\n",
    "\n",
    "1. ```True and (a or True)```\n",
    "2. ```(not (1>3)) or a```\n",
    "3. ```(a<b) or (a>b)```\n",
    "4. ```(False and a) or not b```\n",
    "\n",
    "Löschen Sie die Nummer der Ausdrücke, die ```False``` ergeben könnten. "
   ]
  },
  {
   "cell_type": "code",
   "execution_count": null,
   "id": "2d9d18bf",
   "metadata": {
    "deletable": false,
    "exercise_id": 2
   },
   "outputs": [],
   "source": [
    "[1,2,3,4]"
   ]
  },
  {
   "cell_type": "markdown",
   "id": "e3e9dadc",
   "metadata": {
    "deletable": false,
    "editable": false
   },
   "source": [
    "### Aufgabe 3 (2 Punkte)\n",
    "\n",
    "Welche der folgenden Aussagen sind wahr?\n",
    " 1. Man kann innerhalb einer Schleife keine weiteren Schleifen verwenden.\n",
    " 2. Mit `for i in range(5)` iteriert man durch die Zahlen von 1 bis und mit 5.\n",
    " 3. Die `while`-Schleife wird ausgeführt, solange die Bedingung `True` ist.\n",
    " 4. Der ```else```-Fall in einer Verzweigung wird nicht ausgeführt, wenn die `if`-Bedingung den Wert `Wahr` ergibt.\n",
    " \n",
    "Löschen Sie die Nummern der nicht zutreffenden Behauptungen in der folgenden Zelle."
   ]
  },
  {
   "cell_type": "code",
   "execution_count": null,
   "id": "f7487246",
   "metadata": {
    "deletable": false,
    "exercise_id": 3
   },
   "outputs": [],
   "source": [
    "[1,2,3,4]"
   ]
  },
  {
   "cell_type": "markdown",
   "id": "d637308f",
   "metadata": {
    "deletable": false,
    "editable": false
   },
   "source": [
    "### Aufgabe 4 (2 Punkte)\n",
    "\n",
    "Welche der folgenden Aussagen zu folgendem Code sind wahr?\n",
    "\n",
    "```python\n",
    "x = [10, 20, 30]\n",
    "y = (x, \"done\")\n",
    "z = {\"numbers\": x, \"status\": y}\n",
    "```\n",
    "\n",
    " 1. `x` ist eine Liste.\n",
    " 2. `y[0]` und `z[\"numbers\"]` verweisen auf dasselbe Objekt.\n",
    " 3. Die Anweisung `y[1] = \"finished\"` verändert den Inhalt von y.\n",
    " 4. `z[\"status\"][0][1]` ergibt `20`. \n",
    " \n",
    "Löschen Sie die Nummern der nicht zutreffenden Behauptungen in der folgenden Zelle."
   ]
  },
  {
   "cell_type": "code",
   "execution_count": null,
   "id": "d5dc49cd",
   "metadata": {
    "deletable": false,
    "exercise_id": 4
   },
   "outputs": [],
   "source": [
    "[1,2,3,4]"
   ]
  },
  {
   "cell_type": "markdown",
   "id": "6f3527a9",
   "metadata": {
    "deletable": false,
    "editable": false
   },
   "source": [
    "### Aufgabe 5 (2 Punkte)\n",
    "\n",
    "Welche der folgenden Aussagen sind wahr?\n",
    " 1. Klassen in Python werden mit dem Schlüsselwort `class` definiert.\n",
    " 2. Eine Klasse kann keine Methoden enthalten, nur Attribute.\n",
    " 3. Attribute, die mit `self.` beginnen, gehören zur Instanz, nicht zur Klasse.\n",
    " 4. Eine Instanz einer Klasse wird mit Klammern erstellt, z. B. `obj = MeineKlasse()`.\n",
    " \n",
    "Löschen Sie die Nummern der nicht zutreffenden Behauptungen in der folgenden Zelle."
   ]
  },
  {
   "cell_type": "code",
   "execution_count": null,
   "id": "25e85f56",
   "metadata": {
    "deletable": false,
    "exercise_id": 5
   },
   "outputs": [],
   "source": [
    "[1,2,3,4]"
   ]
  },
  {
   "cell_type": "markdown",
   "id": "2e774137",
   "metadata": {
    "deletable": false,
    "editable": false
   },
   "source": [
    "## Code lesen, verstehen und verändern (6 Punkte)"
   ]
  },
  {
   "cell_type": "markdown",
   "id": "b62746d7",
   "metadata": {
    "deletable": false,
    "editable": false
   },
   "source": [
    "### Aufgabe 6 (2 Punkte)\n",
    "\n",
    "Gegeben ist die Funktion `mystery`. Beantworten Sie folgende Fragen:\n",
    "* Geben Sie für jedes der Argumente dieser Funktion einen Datentyp an, für den der Code funktioniert.\n",
    "* Was macht die Funktion (in einem Satz zusammengefasst)."
   ]
  },
  {
   "cell_type": "code",
   "execution_count": null,
   "id": "81dc9071",
   "metadata": {
    "deletable": false
   },
   "outputs": [],
   "source": [
    "def mystery(a, b):\n",
    "    if len(a) > len(b):\n",
    "        return \"a is longer\"\n",
    "    elif len(a) < len(b):\n",
    "        return \"b is longer\"\n",
    "    else:\n",
    "        return \"equal length\"\n"
   ]
  },
  {
   "cell_type": "markdown",
   "id": "352fe7f1",
   "metadata": {
    "deletable": false,
    "exercise_id": 6
   },
   "source": [
    "* Ihre Antwort zur ersten Frage\n",
    "* Ihre Antwort zur zweiten Frage"
   ]
  },
  {
   "cell_type": "markdown",
   "id": "69ae13f9",
   "metadata": {
    "deletable": false,
    "editable": false,
    "slideshow": {
     "slide_type": "subslide"
    }
   },
   "source": [
    "### Aufgabe 7 (2 Punkte)\n",
    "\n",
    "Der folgende Code soll den Schlüssel mit dem höchsten Wert in einem Dictionary `d` zurückgeben. Leider enthält die Funktion einen Fehler.\n",
    "\n",
    "Ihre Aufgabe ist es, diesen Fehler zu finden:\n",
    "\n",
    "* Geben Sie ein Beispiel für einen Funktionsaufruf (also ein konkretes Dictionary), bei dem der Fehler auftritt.\n",
    "* Beschreiben Sie, was das Problem ist."
   ]
  },
  {
   "cell_type": "code",
   "execution_count": null,
   "id": "661252f6",
   "metadata": {
    "deletable": false
   },
   "outputs": [],
   "source": [
    "def max_value_key(d):\n",
    "    max_key = d[0]\n",
    "    for key in d:\n",
    "        if d[key] > d[max_key]:\n",
    "            max_key = key\n",
    "    return max_key\n"
   ]
  },
  {
   "cell_type": "markdown",
   "id": "c3e3898d",
   "metadata": {
    "deletable": false,
    "exercise_id": 7
   },
   "source": [
    "* Ihr Beispiel für einen Aufruf der zum Fehler führt\n",
    "* Beschreibung des Problems"
   ]
  },
  {
   "cell_type": "markdown",
   "id": "a32c15e8",
   "metadata": {
    "deletable": false,
    "editable": false
   },
   "source": [
    "### Aufgabe 8: Code anpassen (2 Punkte)\n",
    "\n",
    "Der folgende Code nimmt eine Liste von Zahlen entgegen und softiert diese in aufsteigender Reihenfolge. Leider wird dabei die übergebene Liste selbst verändert, wie der Aufruf zeigt. Passen Sie den Code so an, dass die übergebene Liste nicht verändert wird, sondern eine neue Liste zurückgegeben wird. \n",
    "\n",
    "```python\n",
    "def bubble_sort(lst):\n",
    "    n = len(lst)    \n",
    "    for i in range(n):\n",
    "        for j in range(0, n-i-1):            \n",
    "            if lst[j] > lst[j+1]:\n",
    "                (lst[j], lst[j+1]) = (lst[j+1], lst[j])\n",
    "    return lst\n",
    "```"
   ]
  },
  {
   "cell_type": "code",
   "execution_count": null,
   "id": "d1aea8b4",
   "metadata": {
    "deletable": false,
    "exercise_id": 8
   },
   "outputs": [],
   "source": [
    "def bubble_sort(lst):\n",
    "    n = len(lst)    \n",
    "    for i in range(n):\n",
    "        for j in range(0, n-i-1):            \n",
    "            if lst[j] > lst[j+1]:\n",
    "                (lst[j], lst[j+1]) = (lst[j+1], lst[j])\n",
    "    return lst\n",
    "\n",
    "l = [3, 2, 1]\n",
    "l_new = bubble_sort(l)\n",
    "print(l)\n",
    "print(l_new)"
   ]
  },
  {
   "cell_type": "markdown",
   "id": "9bc88797",
   "metadata": {
    "deletable": false,
    "editable": false
   },
   "source": [
    "## Programmieraufgaben (24 Punkte)"
   ]
  },
  {
   "cell_type": "markdown",
   "id": "2d0f10f6",
   "metadata": {
    "deletable": false,
    "editable": false
   },
   "source": [
    "### Aufgabe 9 (3 Punkte)\n",
    "\n",
    "Schreiben Sie eine Funktion ```divisible_count(lo, hi, divisor)```, die drei Argumente entgegennimmt: zwei ganze Zahlen `lo` und `hi` sowie eine ganze Zahl `divisor`. Die Funktion soll die Anzahl aller Zahlen im Intervall `[lo, hi]` (inklusive ```lo``` und ```hi```) berechnen, die durch `divisor` teilbar sind, und das Ergebnis zurückgeben.\n",
    "Als Beispiel soll der Aufruf ```divisible_count(3, 8, 4)``` das Resultat ```2``` zurückgeben, da $4$ und $8$ die zwei durch $4$ teilbaren Zahlen im Intervall $[3,8]$ sind."
   ]
  },
  {
   "cell_type": "code",
   "execution_count": null,
   "id": "73e8dc83",
   "metadata": {
    "deletable": false,
    "exercise_id": 9
   },
   "outputs": [],
   "source": [
    "# Ihre Lösung"
   ]
  },
  {
   "cell_type": "markdown",
   "id": "241f63ee",
   "metadata": {
    "deletable": false,
    "editable": false
   },
   "source": [
    "### Aufgabe 10 (3 Punkte)\n",
    "\n",
    "Implementieren Sie die Funktion ```zip```. Diese soll zwei Listen ```l1``` und ```l2``` gleicher Länge als Argumente entgegennehmen, und eine Liste von Tupeln erzeugt. Dabei sollen die beiden $i$-ten Elemente der Listen jeweils zu einem Tupel zusammengefügt werden und a der $i$-ten Stelle in der neuen Liste gespeichert werden. Als Beispiel soll aus den Listen ```[1,2,3]``` und ```[4,5,6]]``` die Liste ```[(1,4),(2,5),(3,6)]``` erzeugt werden.\n",
    "\n",
    "*Verwenden Sie für die Lösung entweder eine for- oder eine while-Schleife. Allenfalls bekannte Python-Funktionen, die dasselbe in einer Zeile erledigen, sollen nicht verwendet werden.*"
   ]
  },
  {
   "cell_type": "code",
   "execution_count": null,
   "id": "0f12fcb3",
   "metadata": {
    "deletable": false,
    "exercise_id": 10
   },
   "outputs": [],
   "source": [
    "# Ihre Lösung"
   ]
  },
  {
   "cell_type": "markdown",
   "id": "da02e27a",
   "metadata": {
    "deletable": false,
    "editable": false
   },
   "source": [
    "### Aufgabe 11 (3 Punkte)\n",
    "\n",
    "Schreiben Sie eine Funktion `should_i_go_outside`, welche drei Argumente entgegennimmt: Die boolschen Parameter\n",
    "`is_raining` und `is_cold`, sowie eine Variable `activity` (vom Typ String), welche die Werte `\"jogging\"` und `\"reading\"` annehmen kann.\n",
    "\n",
    "Die Funktion soll `True` zurückgeben, wenn die Person die angegebene Aktivität draussen ausüben soll. Joggen geht nur, wenn es nicht regnet und nicht kalt ist. Lesen kann draussen gemacht werden, wenn es nicht regnet, auch wenn es kalt ist."
   ]
  },
  {
   "cell_type": "code",
   "execution_count": null,
   "id": "c39707f1",
   "metadata": {
    "deletable": false,
    "exercise_id": 11
   },
   "outputs": [],
   "source": [
    "# Ihre Lösung"
   ]
  },
  {
   "cell_type": "markdown",
   "id": "8b01d7cf",
   "metadata": {
    "deletable": false,
    "editable": false
   },
   "source": [
    "### Aufgabe 12 (3 Punkte)\n",
    "\n",
    "Schreiben Sie eine Funktion `count_chars`, welche einen Text entgegennimmt und einen Dictionary zurückgibt, welcher angibt, wie oft jeder Buchstabe im Text vorkommt. \n",
    "\n",
    "Beispiel: Für den Aufruf `count_chars(\"Mississippi\")` sollen der Dictionary `{'M': 1, 'i': 4, 's': 4, 'p': 2}` zurückgegeben werden. (Die Reihenfolge der Elemente ist dabei nicht relevant). "
   ]
  },
  {
   "cell_type": "code",
   "execution_count": null,
   "id": "192144c5",
   "metadata": {
    "deletable": false,
    "exercise_id": 12
   },
   "outputs": [],
   "source": [
    "# Ihre Lösung"
   ]
  },
  {
   "cell_type": "markdown",
   "id": "ac73402a",
   "metadata": {
    "deletable": false,
    "editable": false
   },
   "source": [
    "### Aufgabe 13 (3 Punkte)\n",
    "\n",
    "Schreiben Sie eine rekursive Funktion `factorial`, welche als Argument eine positive ganze Zahl `n` erhält und die Fakultät $n!$ berechnet und zurückgibt."
   ]
  },
  {
   "cell_type": "code",
   "execution_count": null,
   "id": "7f2537a1",
   "metadata": {
    "deletable": false,
    "exercise_id": 13
   },
   "outputs": [],
   "source": [
    "# Ihre Lösung"
   ]
  },
  {
   "cell_type": "markdown",
   "id": "415e9981",
   "metadata": {
    "deletable": false,
    "editable": false
   },
   "source": [
    "### Aufgabe 14 (3 Punkte)\n",
    "\n",
    "Schreiben Sie eine Funktion `exclude_range`, welche eine Liste sowie zwei Indizes `i` und `j` als Argumente nimmt, und eine neue Liste zurückgibt, welche nur die Elemente enthält, die nicht zwischen diesen Indizes liegen. Zum Beispiel soll für den Aufruf `exclude_range([1, 7, 6, 5, 9], 1, 3)` die Liste `(1, 9)` zurückgegeben werden. \n"
   ]
  },
  {
   "cell_type": "code",
   "execution_count": null,
   "id": "a7a83fa4",
   "metadata": {
    "deletable": false,
    "exercise_id": 14
   },
   "outputs": [],
   "source": [
    "# Ihre Lösung"
   ]
  },
  {
   "cell_type": "markdown",
   "id": "0705c60f",
   "metadata": {
    "deletable": false,
    "editable": false
   },
   "source": [
    "\n",
    "### Aufgabe 15 (6 Punkte)\n",
    "\n",
    "Erstellen Sie eine Klasse `BankAccount`, die ein einfaches Bankkonto repräsentiert. Die Klasse sollte folgende Attribute haben: `owner` (den Eigentümer des Kontos), `balance` (den Kontostand) und `transactions` (eine Liste der durchgeführten Transaktionen, wobei ein Kontoeingang duch eine positive Zahl und eine Zahlung durch eine negative Zahl repräsentiert wird). Der Name des Eigentümers soll beim Erzeugen der Klasse gesetzt werden können. Die anderen Attribute werden auf geeignete Werte gesetzt. \n",
    "\n",
    "Die Klasse sollte auch folgende Methoden haben:\n",
    "\n",
    "* `deposit`, um Geld auf das Konto einzuzahlen.\n",
    "* `withdraw`, um Geld vom Konto abzuheben. Die Methode sollte sicherstellen, dass der Kontostand nicht negativ wird.\n",
    "Falls dieser negativ wird, soll eine Fehlermeldung ausgegeben werden und die Transaktion nicht durchgeführt werden. \n",
    "* `print_transactions`, um die Liste der durchgeführten Transaktionen auszugeben.\n",
    "\n",
    "Erstellen Sie ein Bankkonto und führen Sie einige Transaktionen durch, um sicherzustellen, dass Ihre Klasse richtig funktioniert.\n",
    " "
   ]
  },
  {
   "cell_type": "code",
   "execution_count": null,
   "id": "8e8e09ce",
   "metadata": {
    "deletable": false,
    "exercise_id": 15
   },
   "outputs": [],
   "source": [
    "# Ihre Lösung"
   ]
  }
 ],
 "metadata": {
  "celltoolbar": "Edit Metadata",
  "exercise_series": "eidp",
  "kernelspec": {
   "display_name": "Python 3",
   "language": "python",
   "name": "python3"
  },
  "language_info": {
   "codemirror_mode": {
    "name": "ipython",
    "version": 3
   },
   "file_extension": ".py",
   "mimetype": "text/x-python",
   "name": "python",
   "nbconvert_exporter": "python",
   "pygments_lexer": "ipython3",
   "version": "3.9.6"
  },
  "notebook_id": 23102,
  "toc": {
   "base_numbering": 1,
   "nav_menu": {},
   "number_sections": false,
   "sideBar": false,
   "skip_h1_title": false,
   "title_cell": "Table of Contents",
   "title_sidebar": "Contents",
   "toc_cell": false,
   "toc_position": {},
   "toc_section_display": false,
   "toc_window_display": false
  }
 },
 "nbformat": 4,
 "nbformat_minor": 5
}
